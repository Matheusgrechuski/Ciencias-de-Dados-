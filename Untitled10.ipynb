{
  "nbformat": 4,
  "nbformat_minor": 0,
  "metadata": {
    "colab": {
      "provenance": [],
      "mount_file_id": "1-5s9GcfN8T51m8IRHp9Gj_B9W31GG-uK",
      "authorship_tag": "ABX9TyPhhEs3Ox/k7uIsaP+CbTJo",
      "include_colab_link": true
    },
    "kernelspec": {
      "name": "python3",
      "display_name": "Python 3"
    },
    "language_info": {
      "name": "python"
    }
  },
  "cells": [
    {
      "cell_type": "markdown",
      "metadata": {
        "id": "view-in-github",
        "colab_type": "text"
      },
      "source": [
        "<a href=\"https://colab.research.google.com/github/Matheusgrechuski/Ciencias-de-Dados-/blob/main/Untitled10.ipynb\" target=\"_parent\"><img src=\"https://colab.research.google.com/assets/colab-badge.svg\" alt=\"Open In Colab\"/></a>"
      ]
    },
    {
      "cell_type": "code",
      "execution_count": null,
      "metadata": {
        "colab": {
          "base_uri": "https://localhost:8080/"
        },
        "collapsed": true,
        "id": "DBpo56N5sQ-D",
        "outputId": "c7991bf4-390e-415e-8550-6878e84ab381"
      },
      "outputs": [
        {
          "output_type": "stream",
          "name": "stdout",
          "text": [
            "Traceback (most recent call last):\n",
            "  File \"/usr/local/bin/pip3\", line 8, in <module>\n",
            "    sys.exit(main())\n",
            "  File \"/usr/local/lib/python3.10/dist-packages/pip/_internal/cli/main.py\", line 78, in main\n",
            "    command = create_command(cmd_name, isolated=(\"--isolated\" in cmd_args))\n",
            "  File \"/usr/local/lib/python3.10/dist-packages/pip/_internal/commands/__init__.py\", line 114, in create_command\n",
            "    module = importlib.import_module(module_path)\n",
            "  File \"/usr/lib/python3.10/importlib/__init__.py\", line 126, in import_module\n",
            "    return _bootstrap._gcd_import(name[level:], package, level)\n",
            "  File \"<frozen importlib._bootstrap>\", line 1050, in _gcd_import\n",
            "  File \"<frozen importlib._bootstrap>\", line 1027, in _find_and_load\n",
            "  File \"<frozen importlib._bootstrap>\", line 1006, in _find_and_load_unlocked\n",
            "  File \"<frozen importlib._bootstrap>\", line 688, in _load_unlocked\n",
            "  File \"<frozen importlib._bootstrap_external>\", line 883, in exec_module\n",
            "  File \"<frozen importlib._bootstrap>\", line 241, in _call_with_frames_removed\n",
            "  File \"/usr/local/lib/python3.10/dist-packages/pip/_internal/commands/install.py\", line 15, in <module>\n",
            "    from pip._internal.cli.req_command import (\n",
            "  File \"/usr/local/lib/python3.10/dist-packages/pip/_internal/cli/req_command.py\", line 18, in <module>\n",
            "    from pip._internal.index.collector import LinkCollector\n",
            "  File \"/usr/local/lib/python3.10/dist-packages/pip/_internal/index/collector.py\", line 31, in <module>\n",
            "    from pip._vendor import requests\n",
            "  File \"/usr/local/lib/python3.10/dist-packages/pip/_vendor/requests/__init__.py\", line 159, in <module>\n",
            "    from .api import delete, get, head, options, patch, post, put, request\n",
            "  File \"/usr/local/lib/python3.10/dist-packages/pip/_vendor/requests/api.py\", line 11, in <module>\n",
            "    from . import sessions\n",
            "  File \"/usr/local/lib/python3.10/dist-packages/pip/_vendor/requests/sessions.py\", line 15, in <module>\n",
            "    from .adapters import HTTPAdapter\n",
            "  File \"/usr/local/lib/python3.10/dist-packages/pip/_vendor/requests/adapters.py\", line 80, in <module>\n",
            "    _preloaded_ssl_context = create_urllib3_context()\n",
            "  File \"/usr/local/lib/python3.10/dist-packages/pip/_vendor/urllib3/util/ssl_.py\", line 290, in create_urllib3_context\n",
            "    context = SSLContext(ssl_version)\n",
            "  File \"/usr/lib/python3.10/ssl.py\", line 496, in __new__\n",
            "    self = _SSLContext.__new__(cls, protocol)\n",
            "KeyboardInterrupt\n",
            "^C\n"
          ]
        }
      ],
      "source": [
        "pip install streamlit pandas plotly gdown"
      ]
    },
    {
      "cell_type": "code",
      "source": [
        "import pandas as pd\n",
        "from google.colab import drive\n",
        "import streamlit as st\n",
        "import plotly.express as px"
      ],
      "metadata": {
        "id": "PWYzunj7sWY4"
      },
      "execution_count": null,
      "outputs": []
    },
    {
      "cell_type": "code",
      "source": [
        "drive.mount('/content/drive')"
      ],
      "metadata": {
        "colab": {
          "base_uri": "https://localhost:8080/"
        },
        "id": "KblkX80twAGG",
        "outputId": "6680b55f-7a6a-4702-fafa-b3dc5b9858bc"
      },
      "execution_count": null,
      "outputs": [
        {
          "output_type": "stream",
          "name": "stdout",
          "text": [
            "Drive already mounted at /content/drive; to attempt to forcibly remount, call drive.mount(\"/content/drive\", force_remount=True).\n"
          ]
        }
      ]
    },
    {
      "cell_type": "code",
      "source": [
        "database_path = '/content/drive/MyDrive/Colab Notebooks/Cópia de Untitled6.ipynb'"
      ],
      "metadata": {
        "id": "ojR9Lb_ms51S"
      },
      "execution_count": null,
      "outputs": []
    },
    {
      "cell_type": "code",
      "source": [
        "cadFuncionarios = pd.read_csv('/content/drive/MyDrive/Colab Notebooks/Cópia de Untitled6.ipynb', sep=';', encoding='latin-1')"
      ],
      "metadata": {
        "id": "r5zWK5Bqs7Tk"
      },
      "execution_count": null,
      "outputs": []
    },
    {
      "cell_type": "code",
      "source": [
        "%%writefile app.py\n",
        "\n",
        "import streamlit as st\n",
        "import pandas as pd\n",
        "import plotly.express as px"
      ],
      "metadata": {
        "colab": {
          "base_uri": "https://localhost:8080/"
        },
        "collapsed": true,
        "id": "Jc6S6GX5tsr6",
        "outputId": "3067a621-4b32-4615-8449-5140739098ae"
      },
      "execution_count": null,
      "outputs": [
        {
          "output_type": "stream",
          "name": "stdout",
          "text": [
            "Overwriting app.py\n"
          ]
        }
      ]
    },
    {
      "cell_type": "code",
      "source": [
        "st.set_page_config(page_title=\"Análise de Dados\", layout=\"wide\")"
      ],
      "metadata": {
        "colab": {
          "base_uri": "https://localhost:8080/"
        },
        "collapsed": true,
        "id": "XDmwDy_ywQ1z",
        "outputId": "ef269533-8ca3-4693-bc99-83e3122cf80a"
      },
      "execution_count": null,
      "outputs": [
        {
          "output_type": "stream",
          "name": "stderr",
          "text": [
            "2024-11-05 00:38:10.595 Thread 'MainThread': missing ScriptRunContext! This warning can be ignored when running in bare mode.\n"
          ]
        }
      ]
    },
    {
      "cell_type": "code",
      "source": [
        "st.title(\"Dashboard de Análise de Dados\")"
      ],
      "metadata": {
        "colab": {
          "base_uri": "https://localhost:8080/"
        },
        "collapsed": true,
        "id": "Bf2F4j8-wdyH",
        "outputId": "79a03787-19dc-421b-b8ae-2cc2adfd312c"
      },
      "execution_count": null,
      "outputs": [
        {
          "output_type": "stream",
          "name": "stderr",
          "text": [
            "2024-11-05 00:38:22.506 Thread 'MainThread': missing ScriptRunContext! This warning can be ignored when running in bare mode.\n",
            "2024-11-05 00:38:22.510 Thread 'MainThread': missing ScriptRunContext! This warning can be ignored when running in bare mode.\n"
          ]
        },
        {
          "output_type": "execute_result",
          "data": {
            "text/plain": [
              "DeltaGenerator()"
            ]
          },
          "metadata": {},
          "execution_count": 31
        }
      ]
    },
    {
      "cell_type": "code",
      "source": [
        "@st.cache_data\n",
        "def load_data():\n",
        "    # Substitua os caminhos abaixo pelos caminhos corretos do seu Google Drive\n",
        "    cadastro_path = \"/content/drive/MyDrive/Colab Notebooks/Cópia de Untitled6.ipynb\"\n",
        "    remuneracao_path = \"/content/drive/MyDrive/Colab Notebooks/Cópia de Untitled6.ipynb\"\n",
        "    observacoes_path = \"/content/drive/MyDrive/Colab Notebooks/Cópia de Untitled6.ipynb\"\n",
        "\n",
        "    cadastro_df = pd.read_csv(cadastro_path, encoding='latin1', sep=';')\n",
        "    remuneracao_df = pd.read_csv(remuneracao_path, encoding='latin1', sep=';')\n",
        "    observacoes_df = pd.read_csv(observacoes_path, encoding='latin1', sep=';')\n",
        "    return cadastro_df, remuneracao_df, observacoes_df\n",
        "\n",
        "try:\n",
        "    cadastro_df, remuneracao_df, observacoes_df = load_data()\n",
        "\n",
        "    tab1, tab2, tab3 = st.tabs([\"Cadastro\", \"Remuneração\", \"Observações\"])\n",
        "\n",
        "    with tab1:\n",
        "        st.header(\"Dados de Cadastro\")\n",
        "        st.dataframe(cadastro_df.head())\n",
        "        # Gráfico de contagem por cargo\n",
        "        if 'CARGO' in cadastro_df.columns:\n",
        "            fig_cargo = px.bar(cadastro_df['CARGO'].value_counts().head(10),\n",
        "                              title=\"Top 10 Cargos\")\n",
        "            st.plotly_chart(fig_cargo)\n",
        "\n",
        "    with tab2:\n",
        "        st.header(\"Dados de Remuneração\")\n",
        "        st.dataframe(remuneracao_df.head())\n",
        "\n",
        "        # Gráfico de distribuição de remuneração\n",
        "        if 'REMUNERAÇÃO BÁSICA' in remuneracao_df.columns:\n",
        "            fig_rem = px.histogram(remuneracao_df, x='REMUNERAÇÃO BÁSICA',\n",
        "                                 title=\"Distribuição de Remuneração Básica\")\n",
        "            st.plotly_chart(fig_rem)\n",
        "\n",
        "    with tab3:\n",
        "        st.header(\"Observações\")\n",
        "        st.dataframe(observacoes_df)\n",
        "\n",
        "    # Adicione filtros laterais\n",
        "    st.sidebar.header(\"Filtros\")\n",
        "    if 'CARGO' in cadastro_df.columns:\n",
        "        cargo_filter = st.sidebar.multiselect(\n",
        "            \"Selecione o Cargo\",\n",
        "            options=cadastro_df['CARGO'].unique(),\n",
        "            default=[]\n",
        "        )\n",
        "\n",
        "except Exception as e:\n",
        "    st.error(f\"Erro ao carregar os dados: {str(e)}\")\n",
        "    st.write(\"Por favor, verifique se os caminhos dos arquivos estão corretos.\")\n"
      ],
      "metadata": {
        "colab": {
          "base_uri": "https://localhost:8080/"
        },
        "collapsed": true,
        "id": "2LZ3xzq4wk_P",
        "outputId": "38965478-2b00-4fb2-c02b-384c76a689a2"
      },
      "execution_count": null,
      "outputs": [
        {
          "output_type": "stream",
          "name": "stderr",
          "text": [
            "2024-11-05 00:55:18.280 No runtime found, using MemoryCacheStorageManager\n",
            "2024-11-05 00:55:18.287 Thread 'MainThread': missing ScriptRunContext! This warning can be ignored when running in bare mode.\n",
            "2024-11-05 00:55:18.290 Thread 'MainThread': missing ScriptRunContext! This warning can be ignored when running in bare mode.\n",
            "2024-11-05 00:55:18.294 Thread 'MainThread': missing ScriptRunContext! This warning can be ignored when running in bare mode.\n",
            "2024-11-05 00:55:18.296 No runtime found, using MemoryCacheStorageManager\n",
            "2024-11-05 00:55:18.763 Thread 'MainThread': missing ScriptRunContext! This warning can be ignored when running in bare mode.\n",
            "2024-11-05 00:55:18.765 Thread 'MainThread': missing ScriptRunContext! This warning can be ignored when running in bare mode.\n",
            "2024-11-05 00:55:18.772 Thread 'MainThread': missing ScriptRunContext! This warning can be ignored when running in bare mode.\n",
            "2024-11-05 00:55:18.773 Thread 'MainThread': missing ScriptRunContext! This warning can be ignored when running in bare mode.\n",
            "2024-11-05 00:55:18.777 Thread 'MainThread': missing ScriptRunContext! This warning can be ignored when running in bare mode.\n",
            "2024-11-05 00:55:18.779 Thread 'MainThread': missing ScriptRunContext! This warning can be ignored when running in bare mode.\n",
            "2024-11-05 00:55:18.781 Thread 'MainThread': missing ScriptRunContext! This warning can be ignored when running in bare mode.\n",
            "2024-11-05 00:55:18.783 Thread 'MainThread': missing ScriptRunContext! This warning can be ignored when running in bare mode.\n",
            "2024-11-05 00:55:18.847 Thread 'MainThread': missing ScriptRunContext! This warning can be ignored when running in bare mode.\n",
            "2024-11-05 00:55:18.849 Thread 'MainThread': missing ScriptRunContext! This warning can be ignored when running in bare mode.\n",
            "2024-11-05 00:55:18.854 Thread 'MainThread': missing ScriptRunContext! This warning can be ignored when running in bare mode.\n",
            "2024-11-05 00:55:18.857 Thread 'MainThread': missing ScriptRunContext! This warning can be ignored when running in bare mode.\n",
            "2024-11-05 00:55:18.902 Thread 'MainThread': missing ScriptRunContext! This warning can be ignored when running in bare mode.\n",
            "2024-11-05 00:55:18.904 Thread 'MainThread': missing ScriptRunContext! This warning can be ignored when running in bare mode.\n",
            "2024-11-05 00:55:18.910 Thread 'MainThread': missing ScriptRunContext! This warning can be ignored when running in bare mode.\n",
            "2024-11-05 00:55:18.914 Thread 'MainThread': missing ScriptRunContext! This warning can be ignored when running in bare mode.\n",
            "2024-11-05 00:55:18.970 Thread 'MainThread': missing ScriptRunContext! This warning can be ignored when running in bare mode.\n",
            "2024-11-05 00:55:18.972 Thread 'MainThread': missing ScriptRunContext! This warning can be ignored when running in bare mode.\n",
            "2024-11-05 00:55:18.977 Thread 'MainThread': missing ScriptRunContext! This warning can be ignored when running in bare mode.\n",
            "2024-11-05 00:55:18.980 Thread 'MainThread': missing ScriptRunContext! This warning can be ignored when running in bare mode.\n"
          ]
        }
      ]
    },
    {
      "cell_type": "code",
      "source": [
        "!streamlit run app.py & npx localtunnel --port 8501"
      ],
      "metadata": {
        "colab": {
          "base_uri": "https://localhost:8080/"
        },
        "id": "7S2tFpf_wk1e",
        "outputId": "cf0fbf83-7987-433b-e4b4-b9ab6ed4abba"
      },
      "execution_count": null,
      "outputs": [
        {
          "output_type": "stream",
          "name": "stdout",
          "text": [
            "\n",
            "Collecting usage statistics. To deactivate, set browser.gatherUsageStats to false.\n",
            "\u001b[0m\n",
            "\u001b[0m\n",
            "\u001b[34m\u001b[1m  You can now view your Streamlit app in your browser.\u001b[0m\n",
            "\u001b[0m\n",
            "\u001b[34m  Local URL: \u001b[0m\u001b[1mhttp://localhost:8501\u001b[0m\n",
            "\u001b[34m  Network URL: \u001b[0m\u001b[1mhttp://172.28.0.12:8501\u001b[0m\n",
            "\u001b[34m  External URL: \u001b[0m\u001b[1mhttp://34.75.72.127:8501\u001b[0m\n",
            "\u001b[0m\n",
            "\u001b[1G\u001b[0JNeed to install the following packages:\n",
            "  localtunnel@2.0.2\n",
            "Ok to proceed? (y) \u001b[20G\u001b[34m  Stopping...\u001b[0m\n",
            "^C\n"
          ]
        }
      ]
    }
  ]
}